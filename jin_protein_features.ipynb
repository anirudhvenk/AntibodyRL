{
 "cells": [
  {
   "cell_type": "code",
   "execution_count": 22,
   "id": "753a8f54",
   "metadata": {},
   "outputs": [],
   "source": [
    "from tqdm import tqdm\n",
    "import json\n",
    "import torch"
   ]
  },
  {
   "cell_type": "code",
   "execution_count": 36,
   "id": "33c0a648",
   "metadata": {},
   "outputs": [],
   "source": [
    "RES_ATOM14 = [\n",
    "    [''] * 14,\n",
    "    ['N', 'CA', 'C', 'O', 'CB', '',    '',    '',    '',    '',    '',    '',    '',    ''],\n",
    "    ['N', 'CA', 'C', 'O', 'CB', 'CG',  'CD',  'NE',  'CZ',  'NH1', 'NH2', '',    '',    ''],\n",
    "    ['N', 'CA', 'C', 'O', 'CB', 'CG',  'OD1', 'ND2', '',    '',    '',    '',    '',    ''],\n",
    "    ['N', 'CA', 'C', 'O', 'CB', 'CG',  'OD1', 'OD2', '',    '',    '',    '',    '',    ''],\n",
    "    ['N', 'CA', 'C', 'O', 'CB', 'SG',  '',    '',    '',    '',    '',    '',    '',    ''],\n",
    "    ['N', 'CA', 'C', 'O', 'CB', 'CG',  'CD',  'OE1', 'NE2', '',    '',    '',    '',    ''],\n",
    "    ['N', 'CA', 'C', 'O', 'CB', 'CG',  'CD',  'OE1', 'OE2', '',    '',    '',    '',    ''],\n",
    "    ['N', 'CA', 'C', 'O', '',   '',    '',    '',    '',    '',    '',    '',    '',    ''],\n",
    "    ['N', 'CA', 'C', 'O', 'CB', 'CG',  'ND1', 'CD2', 'CE1', 'NE2', '',    '',    '',    ''],\n",
    "    ['N', 'CA', 'C', 'O', 'CB', 'CG1', 'CG2', 'CD1', '',    '',    '',    '',    '',    ''],\n",
    "    ['N', 'CA', 'C', 'O', 'CB', 'CG',  'CD1', 'CD2', '',    '',    '',    '',    '',    ''],\n",
    "    ['N', 'CA', 'C', 'O', 'CB', 'CG',  'CD',  'CE',  'NZ',  '',    '',    '',    '',    ''],\n",
    "    ['N', 'CA', 'C', 'O', 'CB', 'CG',  'SD',  'CE',  '',    '',    '',    '',    '',    ''],\n",
    "    ['N', 'CA', 'C', 'O', 'CB', 'CG',  'CD1', 'CD2', 'CE1', 'CE2', 'CZ',  '',    '',    ''],\n",
    "    ['N', 'CA', 'C', 'O', 'CB', 'CG',  'CD',  '',    '',    '',    '',    '',    '',    ''],\n",
    "    ['N', 'CA', 'C', 'O', 'CB', 'OG',  '',    '',    '',    '',    '',    '',    '',    ''],\n",
    "    ['N', 'CA', 'C', 'O', 'CB', 'OG1', 'CG2', '',    '',    '',    '',    '',    '',    ''],\n",
    "    ['N', 'CA', 'C', 'O', 'CB', 'CG',  'CD1', 'CD2', 'NE1', 'CE2', 'CE3', 'CZ2', 'CZ3', 'CH2'],\n",
    "    ['N', 'CA', 'C', 'O', 'CB', 'CG',  'CD1', 'CD2', 'CE1', 'CE2', 'CZ',  'OH',  '',    ''],\n",
    "    ['N', 'CA', 'C', 'O', 'CB', 'CG1', 'CG2', '',    '',    '',    '',    '',    '',    ''],\n",
    "]"
   ]
  },
  {
   "cell_type": "code",
   "execution_count": 37,
   "id": "c6cef68a",
   "metadata": {},
   "outputs": [],
   "source": [
    "ALPHABET = ['#', 'A', 'R', 'N', 'D', 'C', 'Q', 'E', 'G', 'H', 'I', 'L', 'K', 'M', 'F', 'P', 'S', 'T', 'W', 'Y', 'V']"
   ]
  },
  {
   "cell_type": "code",
   "execution_count": 38,
   "id": "5ff8aa4c",
   "metadata": {},
   "outputs": [],
   "source": [
    "RESTYPE_1to3 = {\n",
    "    \"A\": \"ALA\",\n",
    "    \"R\": \"ARG\",\n",
    "    \"N\": \"ASN\",\n",
    "    \"D\": \"ASP\",\n",
    "    \"C\": \"CYS\",\n",
    "    \"Q\": \"GLN\",\n",
    "    \"E\": \"GLU\",\n",
    "    \"G\": \"GLY\",\n",
    "    \"H\": \"HIS\",\n",
    "    \"I\": \"ILE\",\n",
    "    \"L\": \"LEU\",\n",
    "    \"K\": \"LYS\",\n",
    "    \"M\": \"MET\",\n",
    "    \"F\": \"PHE\",\n",
    "    \"P\": \"PRO\",\n",
    "    \"S\": \"SER\",\n",
    "    \"T\": \"THR\",\n",
    "    \"W\": \"TRP\",\n",
    "    \"Y\": \"TYR\",\n",
    "    \"V\": \"VAL\"\n",
    "}"
   ]
  },
  {
   "cell_type": "code",
   "execution_count": 39,
   "id": "1edae119",
   "metadata": {},
   "outputs": [],
   "source": [
    "ATOM_TYPES = [\n",
    "    '', 'N', 'CA', 'C', 'O', 'CB', 'CG', 'CG1', 'CG2', 'OG', 'OG1', 'SG', 'CD',\n",
    "    'CD1', 'CD2', 'ND1', 'ND2', 'OD1', 'OD2', 'SD', 'CE', 'CE1', 'CE2', 'CE3',\n",
    "    'NE', 'NE1', 'NE2', 'OE1', 'OE2', 'CH2', 'NH1', 'NH2', 'OH', 'CZ', 'CZ2',\n",
    "    'CZ3', 'NZ', 'OXT'\n",
    "]"
   ]
  },
  {
   "cell_type": "code",
   "execution_count": 40,
   "id": "4299cda8",
   "metadata": {},
   "outputs": [],
   "source": [
    "jsonl_file = 'data/sample.json'\n",
    "cdr_type = '3'\n",
    "L_target = 20"
   ]
  },
  {
   "cell_type": "code",
   "execution_count": 52,
   "id": "c84d0c9d",
   "metadata": {},
   "outputs": [],
   "source": [
    "def full_square_dist(X, Y, XA, YA, contact=False, remove_diag=False):\n",
    "    B, N, M, L = X.size(0), X.size(1), Y.size(1), Y.size(2)\n",
    "    print(B, N, M, L)\n",
    "    X = X.view(B, N * L, 3)\n",
    "    Y = Y.view(B, M * L, 3)\n",
    "    dxy = X.unsqueeze(2) - Y.unsqueeze(1)  # [B, NL, 1, 3] - [B, 1, ML, 3]\n",
    "    D = torch.sum(dxy ** 2, dim=-1)\n",
    "    D = D.view(B, N, L, M, L)\n",
    "    D = D.transpose(2, 3).reshape(B, N, M, L*L)\n",
    "\n",
    "    xmask = XA.clamp(max=1).float().view(B, N * L)\n",
    "    ymask = YA.clamp(max=1).float().view(B, M * L)\n",
    "    mask = xmask.unsqueeze(2) * ymask.unsqueeze(1)  # [B, NL, 1] x [B, 1, ML]\n",
    "    mask = mask.view(B, N, L, M, L)\n",
    "    mask = mask.transpose(2, 3).reshape(B, N, M, L*L)\n",
    "    if remove_diag:\n",
    "        mask = mask * (1 - torch.eye(N)[None,:,:,None]).to(mask)\n",
    "\n",
    "    if contact:\n",
    "        D = D + 1e6 * (1 - mask)\n",
    "        return D.amin(dim=-1), mask.amax(dim=-1)\n",
    "    else:\n",
    "        return D, mask"
   ]
  },
  {
   "cell_type": "code",
   "execution_count": 53,
   "id": "8fed8706",
   "metadata": {},
   "outputs": [
    {
     "name": "stderr",
     "output_type": "stream",
     "text": [
      "100%|██████████████████████████████████████████████████████████████████████████████████████████████████████| 1/1 [00:00<00:00, 10.58it/s]"
     ]
    },
    {
     "name": "stdout",
     "output_type": "stream",
     "text": [
      "1 389 13 14\n"
     ]
    },
    {
     "name": "stderr",
     "output_type": "stream",
     "text": [
      "\n"
     ]
    }
   ],
   "source": [
    "data = []\n",
    "with open(jsonl_file) as f:\n",
    "    all_lines = f.readlines()\n",
    "    for line in tqdm(all_lines):\n",
    "        entry = json.loads(line)\n",
    "        assert len(entry['antibody_coords']) == len(entry['antibody_seq'])\n",
    "        assert len(entry['antigen_coords']) == len(entry['antigen_seq'])\n",
    "        if entry['antibody_cdr'].count(cdr_type) <= 4:\n",
    "            continue\n",
    "\n",
    "        # paratope region\n",
    "        surface = torch.tensor(\n",
    "                [i for i,v in enumerate(entry['antibody_cdr']) if v in cdr_type]\n",
    "        )\n",
    "        entry['binder_surface'] = surface\n",
    "\n",
    "        entry['binder_seq'] = ''.join([entry['antibody_seq'][i] for i in surface.tolist()])\n",
    "        entry['binder_coords'] = torch.tensor(entry['antibody_coords'])[surface]\n",
    "        entry['binder_atypes'] = torch.tensor(\n",
    "                [[ATOM_TYPES.index(a) for a in RES_ATOM14[ALPHABET.index(s)]] for s in entry['binder_seq']]\n",
    "        )\n",
    "        mask = (entry['binder_coords'].norm(dim=-1) > 1e-6).long()\n",
    "        entry['binder_atypes'] *= mask\n",
    "\n",
    "        # Create target\n",
    "        entry['target_seq'] = entry['antigen_seq']\n",
    "        entry['target_coords'] = torch.tensor(entry['antigen_coords'])\n",
    "        entry['target_atypes'] = torch.tensor(\n",
    "                [[ATOM_TYPES.index(a) for a in RES_ATOM14[ALPHABET.index(s)]] for s in entry['target_seq']]\n",
    "        )\n",
    "        mask = (entry['target_coords'].norm(dim=-1) > 1e-6).long()\n",
    "        entry['target_atypes'] *= mask\n",
    "\n",
    "        # Find target surface\n",
    "        dist, _ = full_square_dist(\n",
    "                entry['target_coords'][None,...], \n",
    "                entry['binder_coords'][None,...], \n",
    "                entry['target_atypes'][None,...], \n",
    "                entry['binder_atypes'][None,...], \n",
    "                contact=True\n",
    "        )\n",
    "        K = min(len(dist[0]), L_target)\n",
    "        epitope = dist[0].amin(dim=-1).topk(k=K, largest=False).indices\n",
    "        entry['target_surface'] = torch.sort(epitope).values\n",
    "\n",
    "        if len(entry['binder_coords']) > 4 and len(entry['target_coords']) > 4 and entry['antibody_cdr'].count('001') <= 1:\n",
    "            data.append(entry)"
   ]
  },
  {
   "cell_type": "code",
   "execution_count": 51,
   "id": "7e05a029",
   "metadata": {},
   "outputs": [
    {
     "data": {
      "text/plain": [
       "'ARGEDNFGSLSDY'"
      ]
     },
     "execution_count": 51,
     "metadata": {},
     "output_type": "execute_result"
    }
   ],
   "source": [
    "data[0]['binder_seq']"
   ]
  }
 ],
 "metadata": {
  "kernelspec": {
   "display_name": "pytorch",
   "language": "python",
   "name": "pytorch"
  },
  "language_info": {
   "codemirror_mode": {
    "name": "ipython",
    "version": 3
   },
   "file_extension": ".py",
   "mimetype": "text/x-python",
   "name": "python",
   "nbconvert_exporter": "python",
   "pygments_lexer": "ipython3",
   "version": "3.8.12"
  }
 },
 "nbformat": 4,
 "nbformat_minor": 5
}
