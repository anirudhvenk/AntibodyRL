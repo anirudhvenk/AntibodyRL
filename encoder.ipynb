{
 "cells": [
  {
   "cell_type": "code",
   "execution_count": 53,
   "id": "221f762f",
   "metadata": {},
   "outputs": [],
   "source": [
    "from preprocess import load_pdb, ALPHABET\n",
    "import torch\n",
    "import torch.nn as nn\n",
    "import py3Dmol\n",
    "from prody import *\n",
    "from sidechainnet.structure.PdbBuilder import PdbBuilder"
   ]
  },
  {
   "cell_type": "code",
   "execution_count": 39,
   "id": "097be078",
   "metadata": {},
   "outputs": [],
   "source": [
    "entry = load_pdb('../data/1nca_imgt.pdb')"
   ]
  },
  {
   "cell_type": "code",
   "execution_count": 56,
   "id": "7bb6d15a",
   "metadata": {},
   "outputs": [],
   "source": [
    "class AAEmbedding(nn.Module):\n",
    "    def __init__(self):\n",
    "        super(AAEmbedding, self).__init__()\n",
    "        self.hydropathy = {'#': 0,\n",
    "                           \"I\":4.5,\n",
    "                           \"V\":4.2,\n",
    "                           \"L\":3.8,\n",
    "                           \"F\":2.8,\n",
    "                           \"C\":2.5,\n",
    "                           \"M\":1.9,\n",
    "                           \"A\":1.8,\n",
    "                           \"W\":-0.9,\n",
    "                           \"G\":-0.4,\n",
    "                           \"T\":-0.7,\n",
    "                           \"S\":-0.8,\n",
    "                           \"Y\":-1.3,\n",
    "                           \"P\":-1.6,\n",
    "                           \"H\":-3.2,\n",
    "                           \"N\":-3.5,\n",
    "                           \"D\":-3.5,\n",
    "                           \"Q\":-3.5,\n",
    "                           \"E\":-3.5,\n",
    "                           \"K\":-3.9,\n",
    "                           \"R\":-4.5}\n",
    "        self.volume = {'#': 0,\n",
    "                       \"G\":60.1,\n",
    "                       \"A\":88.6,\n",
    "                       \"S\":89.0,\n",
    "                       \"C\":108.5,\n",
    "                       \"D\":111.1,\n",
    "                       \"P\":112.7,\n",
    "                       \"N\":114.1,\n",
    "                       \"T\":116.1,\n",
    "                       \"E\":138.4,\n",
    "                       \"V\":140.0,\n",
    "                       \"Q\":143.8,\n",
    "                       \"H\":153.2,\n",
    "                       \"M\":162.9,\n",
    "                       \"I\":166.7,\n",
    "                       \"L\":166.7,\n",
    "                       \"K\":168.6,\n",
    "                       \"R\":173.4,\n",
    "                       \"F\":189.9,\n",
    "                       \"Y\":193.6,\n",
    "                       \"W\":227.8}\n",
    "        self.charge = {**{'R':1, 'K':1, 'D':-1, 'E':-1, 'H':0.1}, **{x:0 for x in 'ABCFGIJLMNOPQSTUVWXYZ#'}}\n",
    "        self.polarity = {**{x:1 for x in 'RNDQEHKSTY'}, **{x:0 for x in \"ACGILMFPWV#\"}}\n",
    "        self.acceptor = {**{x:1 for x in 'DENQHSTY'}, **{x:0 for x in \"RKWACGILMFPV#\"}}\n",
    "        self.donor = {**{x:1 for x in 'RKWNQHSTY'}, **{x:0 for x in \"DEACGILMFPV#\"}}\n",
    "        self.embedding = torch.tensor([\n",
    "            [self.hydropathy[aa], self.volume[aa] / 100, self.charge[aa],\n",
    "            self.polarity[aa], self.acceptor[aa], self.donor[aa]]\n",
    "            for aa in ALPHABET\n",
    "        ])\n",
    "\n",
    "    def to_rbf(self, D, D_min, D_max, stride):\n",
    "        D_count = int((D_max - D_min) / stride)\n",
    "        D_mu = torch.linspace(D_min, D_max, D_count)\n",
    "        D_mu = D_mu.view(1,1,-1)  # [1, 1, K]\n",
    "        D_expand = torch.unsqueeze(D, -1)  # [B, N, 1]\n",
    "        return torch.exp(-((D_expand - D_mu) / stride) ** 2)\n",
    "\n",
    "    def transform(self, aa_vecs):\n",
    "        return torch.cat([\n",
    "            self.to_rbf(aa_vecs[:, :, 0], -4.5, 4.5, 0.1),\n",
    "            self.to_rbf(aa_vecs[:, :, 1], 0, 2.2, 0.1),\n",
    "            self.to_rbf(aa_vecs[:, :, 2], -1.0, 1.0, 0.25),\n",
    "            torch.sigmoid(aa_vecs[:, :, 3:] * 6 - 3),\n",
    "        ], dim=-1)\n",
    "\n",
    "    def dim(self):\n",
    "        return 90 + 22 + 8 + 3\n",
    "\n",
    "    def forward(self, x, raw=False):\n",
    "        B, N = x.size(0), x.size(1)\n",
    "        aa_vecs = self.embedding[x.view(-1)].view(B, N, -1)\n",
    "        rbf_vecs = self.transform(aa_vecs)\n",
    "        return aa_vecs if raw else rbf_vecs\n",
    "\n",
    "    def soft_forward(self, x):\n",
    "        B, N = x.size(0), x.size(1)\n",
    "        aa_vecs = torch.matmul(x.reshape(B * N, -1), self.embedding).view(B, N, -1)\n",
    "        rbf_vecs = self.transform(aa_vecs)\n",
    "        return rbf_vecs"
   ]
  },
  {
   "cell_type": "code",
   "execution_count": 58,
   "id": "84e52e01",
   "metadata": {},
   "outputs": [],
   "source": [
    "def view_cdr3(entry):\n",
    "    cdr3_len = entry['binder_coords'].shape[0]\n",
    "    coords = entry['binder_coords'].reshape(cdr3_len * 14, 3)\n",
    "\n",
    "    pdb = PdbBuilder(entry['binder_seq'], coords).get_pdb_string()\n",
    "    \n",
    "    view = py3Dmol.view(width=400, height=300)\n",
    "    view.addModelsAsFrames(pdb)\n",
    "    view.setStyle({'model': -1}, {\"cartoon\": {'color': 'spectrum'}})\n",
    "    view.zoomTo()\n",
    "    view.show()"
   ]
  },
  {
   "cell_type": "code",
   "execution_count": 68,
   "id": "5866e2e9",
   "metadata": {},
   "outputs": [],
   "source": [
    "true_X = entry['binder_coords'].unsqueeze(0)\n",
    "true_S = torch.tensor([ALPHABET.index(a) for a in entry['binder_seq']]).unsqueeze(0)\n",
    "true_A = entry['binder_atypes'].unsqueeze(0)\n",
    "\n",
    "target_X = entry['target_coords'].unsqueeze(0)\n",
    "target_S = torch.tensor([ALPHABET.index(a) for a in entry['target_seq']]).unsqueeze(0)\n",
    "target_A = entry['target_atypes'].unsqueeze(0)\n",
    "\n",
    "target_surface = entry['target_surface'].unsqueeze(0)"
   ]
  },
  {
   "cell_type": "code",
   "execution_count": 79,
   "id": "4390c709",
   "metadata": {},
   "outputs": [
    {
     "data": {
      "text/plain": [
       "tensor([0.0000e+00, 0.0000e+00, 0.0000e+00, 0.0000e+00, 0.0000e+00, 0.0000e+00,\n",
       "        0.0000e+00, 0.0000e+00, 0.0000e+00, 0.0000e+00, 0.0000e+00, 0.0000e+00,\n",
       "        0.0000e+00, 0.0000e+00, 0.0000e+00, 0.0000e+00, 0.0000e+00, 0.0000e+00,\n",
       "        0.0000e+00, 0.0000e+00, 0.0000e+00, 0.0000e+00, 0.0000e+00, 0.0000e+00,\n",
       "        0.0000e+00, 0.0000e+00, 0.0000e+00, 0.0000e+00, 0.0000e+00, 0.0000e+00,\n",
       "        0.0000e+00, 0.0000e+00, 0.0000e+00, 0.0000e+00, 0.0000e+00, 0.0000e+00,\n",
       "        0.0000e+00, 0.0000e+00, 0.0000e+00, 0.0000e+00, 0.0000e+00, 0.0000e+00,\n",
       "        0.0000e+00, 0.0000e+00, 0.0000e+00, 0.0000e+00, 0.0000e+00, 0.0000e+00,\n",
       "        0.0000e+00, 0.0000e+00, 0.0000e+00, 0.0000e+00, 0.0000e+00, 0.0000e+00,\n",
       "        0.0000e+00, 0.0000e+00, 0.0000e+00, 0.0000e+00, 0.0000e+00, 0.0000e+00,\n",
       "        0.0000e+00, 0.0000e+00, 0.0000e+00, 0.0000e+00, 0.0000e+00, 0.0000e+00,\n",
       "        0.0000e+00, 0.0000e+00, 0.0000e+00, 0.0000e+00, 0.0000e+00, 0.0000e+00,\n",
       "        0.0000e+00, 0.0000e+00, 0.0000e+00, 0.0000e+00, 0.0000e+00, 0.0000e+00,\n",
       "        0.0000e+00, 4.2039e-45, 1.0646e-36, 3.7761e-29, 1.7325e-22, 1.0282e-16,\n",
       "        7.8936e-12, 7.8391e-08, 1.0070e-04, 1.6733e-02, 3.5966e-01, 1.0000e+00,\n",
       "        0.0000e+00, 0.0000e+00, 0.0000e+00, 0.0000e+00, 0.0000e+00, 0.0000e+00,\n",
       "        0.0000e+00, 1.3839e-38, 1.4466e-30, 1.6840e-23, 2.1829e-17, 3.1511e-12,\n",
       "        5.0652e-08, 9.0667e-05, 1.8073e-02, 4.0116e-01, 9.9159e-01, 2.7294e-01,\n",
       "        8.3659e-03, 2.8555e-05, 1.0853e-08, 4.5938e-13, 1.1254e-07, 2.8493e-04,\n",
       "        5.2931e-02, 7.2142e-01, 7.2142e-01, 5.2931e-02, 2.8493e-04, 1.1254e-07,\n",
       "        4.7426e-02, 4.7426e-02, 4.7426e-02])"
      ]
     },
     "execution_count": 79,
     "metadata": {},
     "output_type": "execute_result"
    }
   ],
   "source": [
    "embedding = AAEmbedding()\n",
    "embedding(target_S)[0][0]"
   ]
  }
 ],
 "metadata": {
  "kernelspec": {
   "display_name": "pytorch",
   "language": "python",
   "name": "pytorch"
  },
  "language_info": {
   "codemirror_mode": {
    "name": "ipython",
    "version": 3
   },
   "file_extension": ".py",
   "mimetype": "text/x-python",
   "name": "python",
   "nbconvert_exporter": "python",
   "pygments_lexer": "ipython3",
   "version": "3.8.12"
  }
 },
 "nbformat": 4,
 "nbformat_minor": 5
}
