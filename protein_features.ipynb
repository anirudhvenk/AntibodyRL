{
 "cells": [
  {
   "cell_type": "code",
   "execution_count": 14,
   "id": "b9b8b31b",
   "metadata": {},
   "outputs": [
    {
     "name": "stderr",
     "output_type": "stream",
     "text": [
      "@> ProDy is configured: verbosity='none'\n"
     ]
    }
   ],
   "source": [
    "import torch\n",
    "import numpy as np\n",
    "import json\n",
    "from prody import *\n",
    "from sidechainnet.utils.measure import *"
   ]
  },
  {
   "cell_type": "code",
   "execution_count": 149,
   "id": "fb5bb115",
   "metadata": {},
   "outputs": [],
   "source": [
    "RES_ATOM14 = [\n",
    "    [''] * 14,\n",
    "    ['N', 'CA', 'C', 'O', 'CB', '',    '',    '',    '',    '',    '',    '',    '',    ''],\n",
    "    ['N', 'CA', 'C', 'O', 'CB', 'CG',  'CD',  'NE',  'CZ',  'NH1', 'NH2', '',    '',    ''],\n",
    "    ['N', 'CA', 'C', 'O', 'CB', 'CG',  'OD1', 'ND2', '',    '',    '',    '',    '',    ''],\n",
    "    ['N', 'CA', 'C', 'O', 'CB', 'CG',  'OD1', 'OD2', '',    '',    '',    '',    '',    ''],\n",
    "    ['N', 'CA', 'C', 'O', 'CB', 'SG',  '',    '',    '',    '',    '',    '',    '',    ''],\n",
    "    ['N', 'CA', 'C', 'O', 'CB', 'CG',  'CD',  'OE1', 'NE2', '',    '',    '',    '',    ''],\n",
    "    ['N', 'CA', 'C', 'O', 'CB', 'CG',  'CD',  'OE1', 'OE2', '',    '',    '',    '',    ''],\n",
    "    ['N', 'CA', 'C', 'O', '',   '',    '',    '',    '',    '',    '',    '',    '',    ''],\n",
    "    ['N', 'CA', 'C', 'O', 'CB', 'CG',  'ND1', 'CD2', 'CE1', 'NE2', '',    '',    '',    ''],\n",
    "    ['N', 'CA', 'C', 'O', 'CB', 'CG1', 'CG2', 'CD1', '',    '',    '',    '',    '',    ''],\n",
    "    ['N', 'CA', 'C', 'O', 'CB', 'CG',  'CD1', 'CD2', '',    '',    '',    '',    '',    ''],\n",
    "    ['N', 'CA', 'C', 'O', 'CB', 'CG',  'CD',  'CE',  'NZ',  '',    '',    '',    '',    ''],\n",
    "    ['N', 'CA', 'C', 'O', 'CB', 'CG',  'SD',  'CE',  '',    '',    '',    '',    '',    ''],\n",
    "    ['N', 'CA', 'C', 'O', 'CB', 'CG',  'CD1', 'CD2', 'CE1', 'CE2', 'CZ',  '',    '',    ''],\n",
    "    ['N', 'CA', 'C', 'O', 'CB', 'CG',  'CD',  '',    '',    '',    '',    '',    '',    ''],\n",
    "    ['N', 'CA', 'C', 'O', 'CB', 'OG',  '',    '',    '',    '',    '',    '',    '',    ''],\n",
    "    ['N', 'CA', 'C', 'O', 'CB', 'OG1', 'CG2', '',    '',    '',    '',    '',    '',    ''],\n",
    "    ['N', 'CA', 'C', 'O', 'CB', 'CG',  'CD1', 'CD2', 'NE1', 'CE2', 'CE3', 'CZ2', 'CZ3', 'CH2'],\n",
    "    ['N', 'CA', 'C', 'O', 'CB', 'CG',  'CD1', 'CD2', 'CE1', 'CE2', 'CZ',  'OH',  '',    ''],\n",
    "    ['N', 'CA', 'C', 'O', 'CB', 'CG1', 'CG2', '',    '',    '',    '',    '',    '',    ''],\n",
    "]\n",
    "\n",
    "ALPHABET = ['#', 'A', 'R', 'N', 'D', 'C', 'Q', 'E', 'G', 'H', 'I', 'L', 'K', 'M', 'F', 'P', 'S', 'T', 'W', 'Y', 'V']\n",
    "\n",
    "ATOM_TYPES = [\n",
    "    '', 'N', 'CA', 'C', 'O', 'CB', 'CG', 'CG1', 'CG2', 'OG', 'OG1', 'SG', 'CD',\n",
    "    'CD1', 'CD2', 'ND1', 'ND2', 'OD1', 'OD2', 'SD', 'CE', 'CE1', 'CE2', 'CE3',\n",
    "    'NE', 'NE1', 'NE2', 'OE1', 'OE2', 'CH2', 'NH1', 'NH2', 'OH', 'CZ', 'CZ2',\n",
    "    'CZ3', 'NZ', 'OXT'\n",
    "]"
   ]
  },
  {
   "cell_type": "code",
   "execution_count": 81,
   "id": "92f8b74c",
   "metadata": {},
   "outputs": [],
   "source": [
    "def tocdr(resseq):\n",
    "    if 27 <= resseq <= 38:\n",
    "        return '1'\n",
    "    elif 56 <= resseq <= 65:\n",
    "        return '2'\n",
    "    elif 105 <= resseq <= 117:\n",
    "        return '3'\n",
    "    else:\n",
    "        return '0'"
   ]
  },
  {
   "cell_type": "code",
   "execution_count": 105,
   "id": "ab834363",
   "metadata": {},
   "outputs": [],
   "source": [
    "hchain = parsePDB('data/1nca_imgt.pdb', model=1, chain='H')\n",
    "hchain = hchain.select('not water').copy()\n",
    "\n",
    "_, hcoords, hseq, _, _ = get_seq_coords_and_angles(hchain)\n",
    "hcdr = ''.join([tocdr(res.getResnum()) for res in hchain.iterResidues()])\n",
    "hcoords = hcoords.reshape((len(hseq), 14, 3)) # reshaped to (length of chain, number of types atoms (14), 3d coords)"
   ]
  },
  {
   "cell_type": "code",
   "execution_count": 116,
   "id": "cd0b9fcb",
   "metadata": {},
   "outputs": [],
   "source": [
    "achain = parsePDB('data/1nca_imgt.pdb', model=1, chain='N')\n",
    "achain = achain.select('not water').copy()\n",
    "\n",
    "_, acoords, aseq, _, _ = get_seq_coords_and_angles(achain)\n",
    "acoords = acoords.reshape((len(aseq), 14, 3)) # reshaped to (length of chain, number of types atoms (14), 3d coords)"
   ]
  },
  {
   "cell_type": "code",
   "execution_count": 137,
   "id": "c5328b21",
   "metadata": {},
   "outputs": [],
   "source": [
    "complex_1nca = {\n",
    "    'pdb': '1cna',\n",
    "    'antibody_seq': hseq, # heavy chain sequence\n",
    "    'antibody_cdr': hcdr, # imgt cdr numbering\n",
    "    'antibody_coords': hcoords, # heavy chain coordinates\n",
    "    'antigen_seq': aseq, # antigen sequence\n",
    "    'antigen_coords': acoords # antigen coordinates\n",
    "}\n",
    "entry = {}"
   ]
  },
  {
   "cell_type": "code",
   "execution_count": 174,
   "id": "afb407e1",
   "metadata": {},
   "outputs": [],
   "source": [
    "# residue indices of the CDR3 region\n",
    "surface = torch.tensor([i for i,v in enumerate(complex_1nca['antibody_cdr']) if v in '3'])\n",
    "entry['binder_surface'] = surface\n",
    "\n",
    "# FASTA sequence of the CDR3 region\n",
    "entry['binder_seq'] = ''.join([complex_1nca['antibody_seq'][i] for i in surface.tolist()])\n",
    "\n",
    "# coordinates of the cdr3 region\n",
    "entry['binder_coords'] = torch.tensor(complex_1nca['antibody_coords'])[surface]\n",
    "\n",
    "# convert to indices of atom types of the CDR3 region\n",
    "entry['binder_atypes'] = torch.tensor(\n",
    "                [[ATOM_TYPES.index(a) for a in RES_ATOM14[ALPHABET.index(s)]] for s in entry['binder_seq']]\n",
    ")\n",
    "\n",
    "# binary representation of the atom types (is atom rep. by a 1, no atom = 0)\n",
    "mask = (entry['binder_coords'].norm(dim=-1) > 1e-6).long()\n",
    "\n",
    "# redundancy check\n",
    "entry['binder_atypes'] *= mask"
   ]
  },
  {
   "cell_type": "code",
   "execution_count": 176,
   "id": "611f2ce0",
   "metadata": {},
   "outputs": [],
   "source": [
    "# same things for the antigen target\n",
    "entry['target_seq'] = complex_1nca['antigen_seq']\n",
    "entry['target_coords'] = torch.tensor(complex_1nca['antigen_coords'])\n",
    "entry['target_atypes'] = torch.tensor(\n",
    "        [[ATOM_TYPES.index(a) for a in RES_ATOM14[ALPHABET.index(s)]] for s in entry['target_seq']]\n",
    ")\n",
    "mask = (entry['target_coords'].norm(dim=-1) > 1e-6).long()\n",
    "entry['target_atypes'] *= mask"
   ]
  },
  {
   "cell_type": "code",
   "execution_count": 212,
   "id": "181d046e",
   "metadata": {},
   "outputs": [
    {
     "data": {
      "text/plain": [
       "torch.Size([1, 389, 13, 196])"
      ]
     },
     "execution_count": 212,
     "metadata": {},
     "output_type": "execute_result"
    }
   ],
   "source": [
    "X = entry['target_coords'][None,...]\n",
    "Y = entry['binder_coords'][None,...]\n",
    "XA = entry['target_atypes'][None,...]\n",
    "YA = entry['binder_atypes'][None,...]\n",
    "\n",
    "# number of batches, length of antigen, length of cdr3, number of types atoms (14)\n",
    "B, N, M, L = X.size(0), X.size(1), Y.size(1), Y.size(2)\n",
    "\n",
    "X = X.view(B, N * L, 3) # flatten 2nd dimension (1, length of antigen * number of types atoms (14), coords)\n",
    "Y = Y.view(B, M * L, 3) # flatten 2nd dimension (1, length of cdr3 * number of types atoms (14), coords)\n",
    "\n",
    "# raw distance between cdr3 and antigen residues\n",
    "dxy = X.unsqueeze(2) - Y.unsqueeze(1)  # [B, NL, 1, 3] - [B, 1, ML, 3]\n",
    "\n",
    "# squared distance between cdr3 and antigen residues\n",
    "D = torch.sum(dxy ** 2, dim=-1)\n",
    "D = D.view(B, N, L, M, L)\n",
    "D = D.transpose(2, 3).reshape(B, N, M, L*L)\n",
    "D.shape\n",
    "\n",
    "# xmask = XA.clamp(max=1).float().view(B, N * L)\n",
    "# ymask = YA.clamp(max=1).float().view(B, M * L)\n",
    "# mask = xmask.unsqueeze(2) * ymask.unsqueeze(1)  # [B, NL, 1] x [B, 1, ML]\n",
    "# mask = mask.view(B, N, L, M, L)\n",
    "# mask = mask.transpose(2, 3).reshape(B, N, M, L*L)\n",
    "# if remove_diag:\n",
    "#     mask = mask * (1 - torch.eye(N)[None,:,:,None]).to(mask)\n",
    "\n",
    "# if contact:\n",
    "#     D = D + 1e6 * (1 - mask)\n",
    "#     return D.amin(dim=-1), mask.amax(dim=-1)\n",
    "# else:"
   ]
  }
 ],
 "metadata": {
  "kernelspec": {
   "display_name": "pytorch",
   "language": "python",
   "name": "pytorch"
  },
  "language_info": {
   "codemirror_mode": {
    "name": "ipython",
    "version": 3
   },
   "file_extension": ".py",
   "mimetype": "text/x-python",
   "name": "python",
   "nbconvert_exporter": "python",
   "pygments_lexer": "ipython3",
   "version": "3.8.12"
  }
 },
 "nbformat": 4,
 "nbformat_minor": 5
}
